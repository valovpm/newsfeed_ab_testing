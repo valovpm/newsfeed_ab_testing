{
 "cells": [
  {
   "cell_type": "code",
   "execution_count": 1,
   "id": "fe2c7fa5-d65d-462a-8f4a-1ab5f3da0867",
   "metadata": {},
   "outputs": [
    {
     "name": "stdout",
     "output_type": "stream",
     "text": [
      "       exp_group  user_id  likes  views       ctr\n",
      "0              3   115383     11     36  0.305556\n",
      "1              3   123580     15     92  0.163043\n",
      "2              2   131473     26    148  0.175676\n",
      "3              2    23985     12     66  0.181818\n",
      "4              2    24523     17    120  0.141667\n",
      "...          ...      ...    ...    ...       ...\n",
      "17044          3   122008      4     31  0.129032\n",
      "17045          2    25383     16     57  0.280702\n",
      "17046          3   122190     25     74  0.337838\n",
      "17047          2   108927      8     33  0.242424\n",
      "17048          2    17310      2     14  0.142857\n",
      "\n",
      "[17049 rows x 5 columns]\n",
      "           user_id  likes  views   ctr\n",
      "exp_group                             \n",
      "2             8480   8480   8480  8480\n",
      "3             8569   8569   8569  8569\n"
     ]
    }
   ],
   "source": [
    "import hashlib\n",
    "import pandas as pd\n",
    "import pandahouse as ph\n",
    "import scipy as sp\n",
    "import seaborn as sns\n",
    "\n",
    "# Соединение с ClickHouse\n",
    "connection = {\n",
    "    'host': 'https://clickhouse.lab.karpov.courses',\n",
    "    'database':'simulator_20221220',\n",
    "    'user':'student',\n",
    "    'password':'dpo_python_2020'\n",
    "}\n",
    "\n",
    "# Запрос данных у ClickHouse\n",
    "query = \"\"\"\n",
    "SELECT\n",
    "    exp_group,\n",
    "    user_id,\n",
    "    sum(action = 'like') as likes,\n",
    "    sum(action = 'view') as views,\n",
    "    likes/views as ctr\n",
    "FROM {db}.feed_actions\n",
    "WHERE toDate(time) BETWEEN '2022-11-25' AND '2022-12-01'\n",
    "    AND exp_group in (2, 3)\n",
    "GROUP BY exp_group, user_id\n",
    "\"\"\"\n",
    "\n",
    "# Выполнить запрос данных у ClickHouse\n",
    "df = ph.read_clickhouse(query, connection=connection)\n",
    "print(df)\n",
    "\n",
    "# Оценить насколько похожи экспериментальные группы\n",
    "df_count = df.groupby('exp_group').count()\n",
    "print(df_count)"
   ]
  },
  {
   "cell_type": "code",
   "execution_count": 2,
   "id": "1edcdc4a-6c7e-4572-8ab9-555722fdca8a",
   "metadata": {},
   "outputs": [
    {
     "name": "stdout",
     "output_type": "stream",
     "text": [
      "4664\n"
     ]
    },
    {
     "data": {
      "image/png": "[encoded data removed]",
      "text/plain": [
       "<Figure size 1170x827 with 1 Axes>"
      ]
     },
     "metadata": {},
     "output_type": "display_data"
    }
   ],
   "source": [
    "# n_exp: кол-во экспериментов\n",
    "# n_obs: кол-во наблюдений в каждом эксперименте\n",
    "# pvalues: массив p-значений\n",
    "# pvalues_count: кол-во ложноположительных p-значений\n",
    "n_exp = 100000\n",
    "n_obs = 500\n",
    "pvalues = []\n",
    "pvalues_count = 0\n",
    "\n",
    "# Провести эксперименты\n",
    "for i in range(n_exp):\n",
    "    # Получить выборки данных из каждой группы пользователей\n",
    "    df2 = df[df.exp_group == 2].sample(n=n_obs, replace=False)\n",
    "    df3 = df[df.exp_group == 3].sample(n=n_obs, replace=False)\n",
    "\n",
    "    # Выполнить t-критерий Стьюдента\n",
    "    ttest = sp.stats.ttest_ind(\n",
    "        df2.ctr,\n",
    "        df3.ctr,\n",
    "        equal_var=False\n",
    "    )\n",
    "    \n",
    "    # Получить значение t-критерия \n",
    "    pvalue = ttest[1]\n",
    "    pvalues.append(pvalue)\n",
    "    if pvalue <= 0.05:\n",
    "        pvalues_count += 1\n",
    "\n",
    "print(pvalues_count)\n",
    "\n",
    "# Установка размера графика в seaborn\n",
    "sns.set(rc={'figure.figsize':(11.7,8.27)})\n",
    "\n",
    "# Построение гистограммы\n",
    "groups = sns.histplot(\n",
    "    data = pvalues,\n",
    "    kde=False\n",
    ")\n"
   ]
  },
  {
   "cell_type": "markdown",
   "id": "1441f434-804f-46f1-a67f-e902f6cec037",
   "metadata": {},
   "source": [
    "# Выводы\n",
    "Цель нашего эксперимента заключалась в проверке корректности работы нашей системы сплитования, т.е. что изучаемая ключевая метрика (CTR) не отличается между группами пользователей.\n",
    "Для этого мы многократно (100,000 раз) извлекли подвыборки из наших данных по 500 пользователей из 2 и 3 экспериментальных групп, а затем сравнили их с помощью t-test'ов.\n",
    "Так как мы выбрали статистическую значимость на уровне 5%, следовательно при условии корректности нашей системы сплитования на группы около 5% t-test'ов должны показать статистически значимую разницу между подвыборками, то есть продемонстрировать ложно-положительный результат.\n",
    "В результате эксперимента мы обнаружили что из 100,000 пар подвыборок 4,661 продемонстрировали статистически значимую разницу, то есть менее 5% пар подвыборок.\n",
    "Следовательно мы можем сделать вывод что <b>наша система сплитования на группы является корректной</b>."
   ]
  }
 ],
 "metadata": {
  "kernelspec": {
   "display_name": "Python 3 (ipykernel)",
   "language": "python",
   "name": "python3"
  },
  "language_info": {
   "codemirror_mode": {
    "name": "ipython",
    "version": 3
   },
   "file_extension": ".py",
   "mimetype": "text/x-python",
   "name": "python",
   "nbconvert_exporter": "python",
   "pygments_lexer": "ipython3",
   "version": "3.10.4"
  }
 },
 "nbformat": 4,
 "nbformat_minor": 5
}
